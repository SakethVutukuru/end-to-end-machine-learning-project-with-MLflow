{
 "cells": [
  {
   "cell_type": "code",
   "execution_count": 5,
   "metadata": {},
   "outputs": [
    {
     "ename": "ImportError",
     "evalue": "cannot import name 'DataIngestionConfig' from 'mlProject.entity.config_entity' (/Users/chaky/Desktop/data science/projects/end-to-end-machine-learning-project-with-MLflow/src/mlProject/entity/config_entity.py)",
     "output_type": "error",
     "traceback": [
      "\u001b[0;31m---------------------------------------------------------------------------\u001b[0m",
      "\u001b[0;31mImportError\u001b[0m                               Traceback (most recent call last)",
      "\u001b[1;32m/Users/chaky/Desktop/data science/projects/end-to-end-machine-learning-project-with-MLflow/src/mlProject/components/data_ingestion.ipynb Cell 1\u001b[0m line \u001b[0;36m7\n\u001b[1;32m      <a href='vscode-notebook-cell:/Users/chaky/Desktop/data%20science/projects/end-to-end-machine-learning-project-with-MLflow/src/mlProject/components/data_ingestion.ipynb#W0sZmlsZQ%3D%3D?line=4'>5</a>\u001b[0m \u001b[39mfrom\u001b[39;00m \u001b[39mmlProject\u001b[39;00m\u001b[39m.\u001b[39;00m\u001b[39mutils\u001b[39;00m\u001b[39m.\u001b[39;00m\u001b[39mcommon\u001b[39;00m \u001b[39mimport\u001b[39;00m get_size\n\u001b[1;32m      <a href='vscode-notebook-cell:/Users/chaky/Desktop/data%20science/projects/end-to-end-machine-learning-project-with-MLflow/src/mlProject/components/data_ingestion.ipynb#W0sZmlsZQ%3D%3D?line=5'>6</a>\u001b[0m \u001b[39mfrom\u001b[39;00m \u001b[39mpathlib\u001b[39;00m \u001b[39mimport\u001b[39;00m Path\n\u001b[0;32m----> <a href='vscode-notebook-cell:/Users/chaky/Desktop/data%20science/projects/end-to-end-machine-learning-project-with-MLflow/src/mlProject/components/data_ingestion.ipynb#W0sZmlsZQ%3D%3D?line=6'>7</a>\u001b[0m \u001b[39mfrom\u001b[39;00m \u001b[39mmlProject\u001b[39;00m\u001b[39m.\u001b[39;00m\u001b[39mentity\u001b[39;00m\u001b[39m.\u001b[39;00m\u001b[39mconfig_entity\u001b[39;00m \u001b[39mimport\u001b[39;00m (DataIngestionConfig)\n",
      "\u001b[0;31mImportError\u001b[0m: cannot import name 'DataIngestionConfig' from 'mlProject.entity.config_entity' (/Users/chaky/Desktop/data science/projects/end-to-end-machine-learning-project-with-MLflow/src/mlProject/entity/config_entity.py)"
     ]
    }
   ],
   "source": [
    "import os\n",
    "import urllib.request as request\n",
    "import zipfile\n",
    "from mlProject import logger\n",
    "from mlProject.utils.common import get_size\n",
    "from pathlib import Path\n",
    "from mlProject.entity.config_entity import (DataIngestionConfig)"
   ]
  },
  {
   "cell_type": "code",
   "execution_count": 3,
   "metadata": {},
   "outputs": [
    {
     "ename": "NameError",
     "evalue": "name 'DataIngestionConfig' is not defined",
     "output_type": "error",
     "traceback": [
      "\u001b[0;31m---------------------------------------------------------------------------\u001b[0m",
      "\u001b[0;31mNameError\u001b[0m                                 Traceback (most recent call last)",
      "\u001b[1;32m/Users/chaky/Desktop/data science/projects/end-to-end-machine-learning-project-with-MLflow/src/mlProject/components/data_ingestion.ipynb Cell 2\u001b[0m line \u001b[0;36m1\n\u001b[0;32m----> <a href='vscode-notebook-cell:/Users/chaky/Desktop/data%20science/projects/end-to-end-machine-learning-project-with-MLflow/src/mlProject/components/data_ingestion.ipynb#W1sZmlsZQ%3D%3D?line=0'>1</a>\u001b[0m \u001b[39mclass\u001b[39;00m \u001b[39mDataIngestion\u001b[39;00m:\n\u001b[1;32m      <a href='vscode-notebook-cell:/Users/chaky/Desktop/data%20science/projects/end-to-end-machine-learning-project-with-MLflow/src/mlProject/components/data_ingestion.ipynb#W1sZmlsZQ%3D%3D?line=1'>2</a>\u001b[0m     \u001b[39mdef\u001b[39;00m \u001b[39m__init__\u001b[39m(\u001b[39mself\u001b[39m, config: DataIngestionConfig):\n\u001b[1;32m      <a href='vscode-notebook-cell:/Users/chaky/Desktop/data%20science/projects/end-to-end-machine-learning-project-with-MLflow/src/mlProject/components/data_ingestion.ipynb#W1sZmlsZQ%3D%3D?line=2'>3</a>\u001b[0m         \u001b[39mself\u001b[39m\u001b[39m.\u001b[39mconfig \u001b[39m=\u001b[39m config\n",
      "\u001b[1;32m/Users/chaky/Desktop/data science/projects/end-to-end-machine-learning-project-with-MLflow/src/mlProject/components/data_ingestion.ipynb Cell 2\u001b[0m line \u001b[0;36m2\n\u001b[1;32m      <a href='vscode-notebook-cell:/Users/chaky/Desktop/data%20science/projects/end-to-end-machine-learning-project-with-MLflow/src/mlProject/components/data_ingestion.ipynb#W1sZmlsZQ%3D%3D?line=0'>1</a>\u001b[0m \u001b[39mclass\u001b[39;00m \u001b[39mDataIngestion\u001b[39;00m:\n\u001b[0;32m----> <a href='vscode-notebook-cell:/Users/chaky/Desktop/data%20science/projects/end-to-end-machine-learning-project-with-MLflow/src/mlProject/components/data_ingestion.ipynb#W1sZmlsZQ%3D%3D?line=1'>2</a>\u001b[0m     \u001b[39mdef\u001b[39;00m \u001b[39m__init__\u001b[39m(\u001b[39mself\u001b[39m, config: DataIngestionConfig):\n\u001b[1;32m      <a href='vscode-notebook-cell:/Users/chaky/Desktop/data%20science/projects/end-to-end-machine-learning-project-with-MLflow/src/mlProject/components/data_ingestion.ipynb#W1sZmlsZQ%3D%3D?line=2'>3</a>\u001b[0m         \u001b[39mself\u001b[39m\u001b[39m.\u001b[39mconfig \u001b[39m=\u001b[39m config\n\u001b[1;32m      <a href='vscode-notebook-cell:/Users/chaky/Desktop/data%20science/projects/end-to-end-machine-learning-project-with-MLflow/src/mlProject/components/data_ingestion.ipynb#W1sZmlsZQ%3D%3D?line=6'>7</a>\u001b[0m     \u001b[39mdef\u001b[39;00m \u001b[39mdownload_file\u001b[39m(\u001b[39mself\u001b[39m):\n",
      "\u001b[0;31mNameError\u001b[0m: name 'DataIngestionConfig' is not defined"
     ]
    }
   ],
   "source": [
    "class DataIngestion:\n",
    "    def __init__(self, config: DataIngestionConfig):\n",
    "        self.config = config\n",
    "\n",
    "\n",
    "    \n",
    "    def download_file(self):\n",
    "        if not os.path.exists(self.config.local_data_file):\n",
    "            filename, headers = request.urlretrieve(\n",
    "                url = self.config.source_URL,\n",
    "                filename = self.config.local_data_file\n",
    "            )\n",
    "            logger.info(f\"{filename} download! with following info: \\n{headers}\")\n",
    "        else:\n",
    "            logger.info(f\"File already exists of size: {get_size(Path(self.config.local_data_file))}\")\n",
    "\n",
    "\n",
    "\n",
    "    def extract_zip_file(self):\n",
    "        \"\"\"\n",
    "        zip_file_path: str\n",
    "        Extracts the zip file into the data directory\n",
    "        Function returns None\n",
    "        \"\"\"\n",
    "        unzip_path = self.config.unzip_dir\n",
    "        os.makedirs(unzip_path, exist_ok=True)\n",
    "        with zipfile.ZipFile(self.config.local_data_file, 'r') as zip_ref:\n",
    "            zip_ref.extractall(unzip_path)"
   ]
  }
 ],
 "metadata": {
  "kernelspec": {
   "display_name": "mlproj",
   "language": "python",
   "name": "python3"
  },
  "language_info": {
   "codemirror_mode": {
    "name": "ipython",
    "version": 3
   },
   "file_extension": ".py",
   "mimetype": "text/x-python",
   "name": "python",
   "nbconvert_exporter": "python",
   "pygments_lexer": "ipython3",
   "version": "3.9.6"
  }
 },
 "nbformat": 4,
 "nbformat_minor": 2
}
