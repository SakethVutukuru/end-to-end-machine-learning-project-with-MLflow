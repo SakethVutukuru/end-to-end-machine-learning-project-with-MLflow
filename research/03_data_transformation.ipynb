{
 "cells": [
  {
   "cell_type": "code",
   "execution_count": 1,
   "metadata": {},
   "outputs": [],
   "source": [
    "import os"
   ]
  },
  {
   "cell_type": "code",
   "execution_count": 2,
   "metadata": {},
   "outputs": [
    {
     "data": {
      "text/plain": [
       "'/Users/chaky/Desktop/data science/projects/end-to-end-machine-learning-project-with-MLflow/research'"
      ]
     },
     "execution_count": 2,
     "metadata": {},
     "output_type": "execute_result"
    }
   ],
   "source": [
    "%pwd"
   ]
  },
  {
   "cell_type": "code",
   "execution_count": 3,
   "metadata": {},
   "outputs": [],
   "source": [
    "os.chdir(\"../\")"
   ]
  },
  {
   "cell_type": "code",
   "execution_count": 4,
   "metadata": {},
   "outputs": [
    {
     "data": {
      "text/plain": [
       "'/Users/chaky/Desktop/data science/projects/end-to-end-machine-learning-project-with-MLflow'"
      ]
     },
     "execution_count": 4,
     "metadata": {},
     "output_type": "execute_result"
    }
   ],
   "source": [
    "%pwd"
   ]
  },
  {
   "cell_type": "code",
   "execution_count": 5,
   "metadata": {},
   "outputs": [],
   "source": [
    "from dataclasses import dataclass\n",
    "from pathlib import Path\n",
    "\n",
    "\n",
    "@dataclass(frozen=True)\n",
    "class DataTransformationConfig:\n",
    "    root_dir: Path\n",
    "    data_path: Path"
   ]
  },
  {
   "cell_type": "code",
   "execution_count": 6,
   "metadata": {},
   "outputs": [],
   "source": [
    "from mlProject.constants import *\n",
    "from mlProject.utils.common import read_yaml, create_directories"
   ]
  },
  {
   "cell_type": "code",
   "execution_count": 7,
   "metadata": {},
   "outputs": [],
   "source": [
    "class ConfigurationManager:\n",
    "    def __init__(\n",
    "        self,\n",
    "        config_filepath = CONFIG_FILE_PATH,\n",
    "        params_filepath = PARAMS_FILE_PATH,\n",
    "        schema_filepath = SCHEMA_FILE_PATH):\n",
    "\n",
    "        self.config = read_yaml(config_filepath)\n",
    "        self.params = read_yaml(params_filepath)\n",
    "        self.schema = read_yaml(schema_filepath)\n",
    "\n",
    "        create_directories([self.config.artifacts_root])\n",
    "\n",
    "\n",
    "    \n",
    "    def get_data_transformation_config(self) -> DataTransformationConfig:\n",
    "        config = self.config.data_transformation\n",
    "\n",
    "        create_directories([config.root_dir])\n",
    "\n",
    "        data_transformation_config = DataTransformationConfig(\n",
    "            root_dir=config.root_dir,\n",
    "            data_path=config.data_path,\n",
    "        )\n",
    "\n",
    "        return data_transformation_config"
   ]
  },
  {
   "cell_type": "code",
   "execution_count": 8,
   "metadata": {},
   "outputs": [],
   "source": [
    "import os\n",
    "from mlProject import logger\n",
    "from sklearn.model_selection import train_test_split\n",
    "import pandas as pd\n",
    "from sklearn.preprocessing import StandardScaler\n",
    "from sklearn.decomposition import PCA\n"
   ]
  },
  {
   "cell_type": "code",
   "execution_count": 12,
   "metadata": {},
   "outputs": [],
   "source": [
    "class DataTransformation:\n",
    "    def __init__(self, config: DataTransformationConfig):\n",
    "        self.config = config\n",
    "\n",
    "    def transform_data(self):\n",
    "        # Load the data\n",
    "        data = pd.read_csv(self.config.data_path)\n",
    "\n",
    "        # Shuffle the data\n",
    "        data = data.sample(frac=1, random_state=42).reset_index(drop=True)\n",
    "\n",
    "        # Define the target variable\n",
    "        target_variable = 'quality'\n",
    "\n",
    "        # Split the data into features (X) and the target variable (y)\n",
    "        #X = data.drop(target_variable, axis=1)\n",
    "        #y = data[target_variable]\n",
    "\n",
    "        # Split the data into training and test sets with randomization (0.75, 0.25) split.\n",
    "        #X_train, X_test, y_train, y_test = train_test_split(X, y, test_size=0.25, random_state=42)\n",
    "\n",
    "        # Apply StandardScaler only to the features (X)\n",
    "        #scaler = StandardScaler()\n",
    "        #X_train_scaled = scaler.fit_transform(X_train)\n",
    "        #X_test_scaled = scaler.transform(X_test)\n",
    "\n",
    "        # Apply PCA (Principal Component Analysis) if needed\n",
    "        # pca = PCA(n_components=2)  # You can specify the number of components as needed\n",
    "        # X_train_pca = pca.fit_transform(X_train_scaled)\n",
    "        # X_test_pca = pca.transform(X_test_scaled)\n",
    "        train, test = train_test_split(data, test_size=0.25, random_state=42)\n",
    "        X_train=train.drop(target_variable, axis=1)\n",
    "        y_train=train[target_variable]\n",
    "\n",
    "        X_test=test.drop(target_variable, axis=1)\n",
    "        y_test=test[target_variable]\n",
    "\n",
    "        scaler = StandardScaler()\n",
    "        X_train_scaled = scaler.fit_transform(X_train)\n",
    "        X_test_scaled = scaler.transform(X_test)\n",
    "\n",
    "        # Save the transformed data\n",
    "        train_data = pd.DataFrame(X_train_scaled, columns=X_train.columns)\n",
    "        test_data = pd.DataFrame(X_test_scaled, columns=X_test.columns)\n",
    "\n",
    "        # Add the target variable to the train and test datasets\n",
    "        train_data[target_variable] = y_train\n",
    "        test_data[target_variable] = y_test\n",
    "\n",
    "        # Save the train and test datasets as CSV files\n",
    "        train_data.to_csv(os.path.join(self.config.root_dir, \"train.csv\"),index = False)\n",
    "        test_data.to_csv(os.path.join(self.config.root_dir, \"test.csv\"),index = False)\n",
    "\n",
    "        # Save the transformed data\n",
    "        #train_data = pd.DataFrame(X_train_scaled, columns=X.columns)\n",
    "        #test_data = pd.DataFrame(X_test_scaled, columns=X.columns)\n",
    "        # Add the target variable to the train and test datasets\n",
    "\n",
    "        #train_data[target_variable] = y_train\n",
    "        #test_data[target_variable] = y_test\n",
    "        # Save the train and test datasets as CSV files\n",
    "\n",
    "        #train_data.to_csv(os.path.join(self.config.root_dir, \"train.csv\"), index=False)\n",
    "        #test_data.to_csv(os.path.join(self.config.root_dir, \"test.csv\"), index=False)\n",
    "\n",
    "        logger.info(\"Transformed data with StandardScaler and saved to CSV files with randomization\")\n",
    "        logger.info(train_data.shape)\n",
    "        logger.info(test_data.shape)\n",
    "\n",
    "        print(train_data.shape)\n",
    "        print(test_data.shape)"
   ]
  },
  {
   "cell_type": "code",
   "execution_count": 13,
   "metadata": {},
   "outputs": [
    {
     "name": "stdout",
     "output_type": "stream",
     "text": [
      "[2023-10-28 14:36:43,986: INFO: common: yaml file: config/config.yaml loaded successfully]\n",
      "[2023-10-28 14:36:43,991: INFO: common: yaml file: params.yaml loaded successfully]\n",
      "[2023-10-28 14:36:43,995: INFO: common: yaml file: schema.yaml loaded successfully]\n",
      "[2023-10-28 14:36:43,997: INFO: common: created directory at: artifacts]\n",
      "[2023-10-28 14:36:43,997: INFO: common: created directory at: artifacts/data_transformation]\n",
      "[2023-10-28 14:36:44,049: INFO: 2466589463: Transformed data with StandardScaler and saved to CSV files with randomization]\n",
      "[2023-10-28 14:36:44,049: INFO: 2466589463: (1199, 12)]\n",
      "[2023-10-28 14:36:44,050: INFO: 2466589463: (400, 12)]\n",
      "(1199, 12)\n",
      "(400, 12)\n"
     ]
    }
   ],
   "source": [
    "try:\n",
    "    config = ConfigurationManager()\n",
    "    data_transformation_config = config.get_data_transformation_config()\n",
    "    data_transformation = DataTransformation(config=data_transformation_config)\n",
    "    data_transformation.transform_data()\n",
    "except Exception as e:\n",
    "    raise e"
   ]
  }
 ],
 "metadata": {
  "kernelspec": {
   "display_name": "mlproj",
   "language": "python",
   "name": "python3"
  },
  "language_info": {
   "codemirror_mode": {
    "name": "ipython",
    "version": 3
   },
   "file_extension": ".py",
   "mimetype": "text/x-python",
   "name": "python",
   "nbconvert_exporter": "python",
   "pygments_lexer": "ipython3",
   "version": "3.9.6"
  }
 },
 "nbformat": 4,
 "nbformat_minor": 2
}
